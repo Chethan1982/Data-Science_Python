{
 "cells": [
  {
   "cell_type": "markdown",
   "id": "f8445aad",
   "metadata": {},
   "source": [
    "# Decision Tree- Fraud Check\n",
    "\n",
    "Use decision trees to prepare a model on fraud data \n",
    "treating those who have taxable_income <= 30000 as \"Risky\" and others are \"Good\"\n",
    "\n",
    "Data Description :\n",
    "\n",
    "Undergrad : person is under graduated or not\n",
    "\n",
    "Marital.Status : marital status of a person\n",
    "\n",
    "Taxable.Income : Taxable income is the amount of how much tax an individual owes to the government\n",
    "\n",
    "Work Experience : Work experience of an individual person\n",
    "\n",
    "Urban : Whether that person belongs to urban area or not"
   ]
  },
  {
   "cell_type": "code",
   "execution_count": null,
   "id": "4d9f0cd5",
   "metadata": {},
   "outputs": [],
   "source": [
    "import pandas as pd\n",
    "import matplotlib.pyplot as plt\n",
    "import numpy as np\n",
    "from sklearn.model_selection import train_test_split\n",
    "from sklearn.tree import  DecisionTreeClassifier\n",
    "from sklearn import tree\n",
    "from sklearn.metrics import classification_report"
   ]
  },
  {
   "cell_type": "code",
   "execution_count": null,
   "id": "b5b4e158",
   "metadata": {},
   "outputs": [],
   "source": [
    "fraud= pd.read_csv(\"Fraud_check.csv\")"
   ]
  },
  {
   "cell_type": "code",
   "execution_count": null,
   "id": "6bed74c1",
   "metadata": {},
   "outputs": [],
   "source": [
    "fraud.describe()"
   ]
  },
  {
   "cell_type": "code",
   "execution_count": null,
   "id": "87b537ec",
   "metadata": {},
   "outputs": [],
   "source": [
    "#Changing the categorical variables into dummies.\n",
    "df = pd.get_dummies(fraud)\n",
    "\n",
    "#Converting the Target variable i.e. Taxable Income into Categorical (As mentioned in the problem statement)\n",
    "df['Category'] = pd.cut(df['Taxable.Income'], \n",
    "                        bins=[0,30000, np.inf], \n",
    "                        labels=['Risky','Good'],\n",
    "                        include_lowest=True)"
   ]
  },
  {
   "cell_type": "code",
   "execution_count": null,
   "id": "588c396d",
   "metadata": {},
   "outputs": [],
   "source": [
    "df"
   ]
  },
  {
   "cell_type": "code",
   "execution_count": null,
   "id": "92500b7a",
   "metadata": {},
   "outputs": [],
   "source": [
    "x = df.iloc[:,1:10]\n",
    "y = df.iloc[:,10]"
   ]
  },
  {
   "cell_type": "code",
   "execution_count": null,
   "id": "a46a120a",
   "metadata": {},
   "outputs": [],
   "source": [
    "x"
   ]
  },
  {
   "cell_type": "code",
   "execution_count": null,
   "id": "805b583a",
   "metadata": {},
   "outputs": [],
   "source": [
    "y"
   ]
  },
  {
   "cell_type": "code",
   "execution_count": null,
   "id": "3cbd6d8e",
   "metadata": {},
   "outputs": [],
   "source": [
    "# Splitting data into training and testing data set\n",
    "x_train, x_test,y_train,y_test = train_test_split(x,y, test_size=0.3,random_state=40)"
   ]
  },
  {
   "cell_type": "code",
   "execution_count": null,
   "id": "e6e801ae",
   "metadata": {},
   "outputs": [],
   "source": [
    "y_train.value_counts()"
   ]
  },
  {
   "cell_type": "code",
   "execution_count": null,
   "id": "db76e061",
   "metadata": {},
   "outputs": [],
   "source": [
    "y_test.value_counts()"
   ]
  },
  {
   "cell_type": "markdown",
   "id": "6d8fb16e",
   "metadata": {},
   "source": [
    "### Building Decision Tree Classifier using Entropy Criteria\n",
    "### Iteration-1: Max Depth = 2"
   ]
  },
  {
   "cell_type": "code",
   "execution_count": null,
   "id": "08c9da49",
   "metadata": {},
   "outputs": [],
   "source": [
    "model1 = DecisionTreeClassifier(criterion = 'entropy',max_depth=2)\n",
    "model1.fit(x_train,y_train)\n",
    "preds1 = model1.predict(x_test) # predicting on test data set \n",
    "\n",
    "print('Model leaves:',model1.get_n_leaves(),'\\n','\\n',\n",
    "      pd.Series(preds1).value_counts(),'\\n','\\n',\n",
    "      'Model Accuracy is:',np.mean(preds1==y_test))"
   ]
  },
  {
   "cell_type": "markdown",
   "id": "a0d13cc0",
   "metadata": {},
   "source": [
    "### Iteration-2: Max Depth = 3"
   ]
  },
  {
   "cell_type": "code",
   "execution_count": null,
   "id": "a1d81e37",
   "metadata": {},
   "outputs": [],
   "source": [
    "model2 = DecisionTreeClassifier(criterion = 'entropy',max_depth=3)\n",
    "model2.fit(x_train,y_train)\n",
    "preds2 = model2.predict(x_test) # predicting on test data set \n",
    "\n",
    "print('Model leaves:',model2.get_n_leaves(),'\\n','\\n',\n",
    "      pd.Series(preds2).value_counts(),'\\n','\\n',\n",
    "      'Model Accuracy is:',np.mean(preds2==y_test))"
   ]
  },
  {
   "cell_type": "markdown",
   "id": "bca07744",
   "metadata": {},
   "source": [
    "### Iteration-3: Max Depth = 4"
   ]
  },
  {
   "cell_type": "code",
   "execution_count": null,
   "id": "62dc19de",
   "metadata": {},
   "outputs": [],
   "source": [
    "model3 = DecisionTreeClassifier(criterion = 'entropy',max_depth=4)\n",
    "model3.fit(x_train,y_train)\n",
    "preds3 = model3.predict(x_test) # predicting on test data set \n",
    "\n",
    "print('Model leaves:',model3.get_n_leaves(),'\\n','\\n',\n",
    "      pd.Series(preds3).value_counts(),'\\n','\\n',\n",
    "      'Model Accuracy is:',np.mean(preds3==y_test))"
   ]
  },
  {
   "cell_type": "markdown",
   "id": "e04c8a6b",
   "metadata": {},
   "source": [
    "### Iteration-4: Max Depth = 5"
   ]
  },
  {
   "cell_type": "code",
   "execution_count": null,
   "id": "d84f0508",
   "metadata": {},
   "outputs": [],
   "source": [
    "model4 = DecisionTreeClassifier(criterion = 'entropy',max_depth=5)\n",
    "model4.fit(x_train,y_train)\n",
    "preds4 = model4.predict(x_test) # predicting on test data set \n",
    "\n",
    "print('Model leaves:',model4.get_n_leaves(),'\\n','\\n',\n",
    "      pd.Series(preds4).value_counts(),'\\n','\\n',\n",
    "      'Model Accuracy is:',np.mean(preds4==y_test))"
   ]
  },
  {
   "cell_type": "markdown",
   "id": "95de8e3f",
   "metadata": {},
   "source": [
    "### Iteration-5: Max Depth = 6"
   ]
  },
  {
   "cell_type": "code",
   "execution_count": null,
   "id": "2f22a2bb",
   "metadata": {},
   "outputs": [],
   "source": [
    "model5 = DecisionTreeClassifier(criterion = 'entropy',max_depth=6)\n",
    "model5.fit(x_train,y_train)\n",
    "preds5 = model5.predict(x_test) # predicting on test data set \n",
    "\n",
    "print('Model leaves:',model5.get_n_leaves(),'\\n','\\n',\n",
    "      pd.Series(preds5).value_counts(),'\\n','\\n',\n",
    "      'Model Accuracy is:',np.mean(preds5==y_test))"
   ]
  },
  {
   "cell_type": "markdown",
   "id": "1f9d39b8",
   "metadata": {},
   "source": [
    "### Iteration-6: Max Depth = 7"
   ]
  },
  {
   "cell_type": "code",
   "execution_count": null,
   "id": "ca69ec6b",
   "metadata": {},
   "outputs": [],
   "source": [
    "model6 = DecisionTreeClassifier(criterion = 'entropy',max_depth=7)\n",
    "model6.fit(x_train,y_train)\n",
    "preds6 = model6.predict(x_test) # predicting on test data set \n",
    "\n",
    "print('Model leaves:',model6.get_n_leaves(),'\\n','\\n',\n",
    "      pd.Series(preds6).value_counts(),'\\n','\\n',\n",
    "      'Model Accuracy is:',np.mean(preds6==y_test))"
   ]
  },
  {
   "cell_type": "markdown",
   "id": "b0ec359b",
   "metadata": {},
   "source": [
    "### Iteration-7: Max Depth = 8"
   ]
  },
  {
   "cell_type": "code",
   "execution_count": null,
   "id": "9e563566",
   "metadata": {},
   "outputs": [],
   "source": [
    "model7 = DecisionTreeClassifier(criterion = 'entropy',max_depth=8)\n",
    "model7.fit(x_train,y_train)\n",
    "preds7 = model7.predict(x_test) # predicting on test data set \n",
    "\n",
    "print('Model leaves:',model7.get_n_leaves(),'\\n','\\n',\n",
    "      pd.Series(preds7).value_counts(),'\\n','\\n',\n",
    "      'Model Accuracy is:',np.mean(preds7==y_test))"
   ]
  },
  {
   "cell_type": "markdown",
   "id": "9a6b0e72",
   "metadata": {},
   "source": [
    "### Hence, the classifier model at the end of iteration 1 has the max accuracy i.e. 77.77%"
   ]
  },
  {
   "cell_type": "code",
   "execution_count": null,
   "id": "4a1bc8da",
   "metadata": {},
   "outputs": [],
   "source": [
    "print(classification_report(preds1,y_test))"
   ]
  },
  {
   "cell_type": "markdown",
   "id": "1eabf974",
   "metadata": {},
   "source": [
    "### We'll perform EDA to find outlier and see if that can increase the model accuracy"
   ]
  },
  {
   "cell_type": "code",
   "execution_count": null,
   "id": "167f5137",
   "metadata": {},
   "outputs": [],
   "source": [
    "from sklearn.ensemble import IsolationForest"
   ]
  },
  {
   "cell_type": "code",
   "execution_count": null,
   "id": "ba527a40",
   "metadata": {},
   "outputs": [],
   "source": [
    "newdf= pd.get_dummies(fraud)"
   ]
  },
  {
   "cell_type": "code",
   "execution_count": null,
   "id": "f9a8c803",
   "metadata": {},
   "outputs": [],
   "source": [
    "newdf"
   ]
  },
  {
   "cell_type": "code",
   "execution_count": null,
   "id": "c39a7d69",
   "metadata": {},
   "outputs": [],
   "source": [
    "# training the model\n",
    "clf = IsolationForest(random_state=40,contamination=.01)\n",
    "clf.fit(newdf)"
   ]
  },
  {
   "cell_type": "code",
   "execution_count": null,
   "id": "8ec398cf",
   "metadata": {},
   "outputs": [],
   "source": [
    "# predictions\n",
    "y_pred_outliers = clf.predict(newdf)"
   ]
  },
  {
   "cell_type": "code",
   "execution_count": null,
   "id": "3b464865",
   "metadata": {},
   "outputs": [],
   "source": [
    "#-1 for outliers and 1 for inliers.\n",
    "y_pred_outliers"
   ]
  },
  {
   "cell_type": "code",
   "execution_count": null,
   "id": "8ff35677",
   "metadata": {},
   "outputs": [],
   "source": [
    "newdf['scores']=clf.decision_function(newdf.iloc[:,0:10])\n",
    "newdf['anomaly']=clf.predict(newdf.iloc[:,0:10])\n",
    "newdf"
   ]
  },
  {
   "cell_type": "code",
   "execution_count": null,
   "id": "609405e0",
   "metadata": {},
   "outputs": [],
   "source": [
    "#Print the outlier data points\n",
    "newdf[newdf['anomaly']==-1]"
   ]
  },
  {
   "cell_type": "code",
   "execution_count": null,
   "id": "fc152157",
   "metadata": {},
   "outputs": [],
   "source": [
    "df1 = newdf.drop([34,280,409,414,474,541],axis=0).reset_index(drop=True)\n",
    "df1"
   ]
  },
  {
   "cell_type": "code",
   "execution_count": null,
   "id": "8afc28d2",
   "metadata": {},
   "outputs": [],
   "source": [
    "#Converting the Target variable i.e. Taxable Income into Categorical (As mentioned in the problem statement)\n",
    "df1['Category'] = pd.cut(df1['Taxable.Income'], \n",
    "                        bins=[0,30000, np.inf], \n",
    "                        labels=['Risky','Good'],\n",
    "                        include_lowest=True)\n",
    "\n",
    "df1"
   ]
  },
  {
   "cell_type": "code",
   "execution_count": null,
   "id": "b7de59ec",
   "metadata": {},
   "outputs": [],
   "source": [
    "x1 = df1.iloc[:,1:10]\n",
    "y1 = df1.iloc[:,12]"
   ]
  },
  {
   "cell_type": "code",
   "execution_count": null,
   "id": "bce96bc1",
   "metadata": {},
   "outputs": [],
   "source": [
    "x1"
   ]
  },
  {
   "cell_type": "code",
   "execution_count": null,
   "id": "9e17114c",
   "metadata": {},
   "outputs": [],
   "source": [
    "y1"
   ]
  },
  {
   "cell_type": "code",
   "execution_count": null,
   "id": "40a83e32",
   "metadata": {},
   "outputs": [],
   "source": [
    "# Splitting data into training and testing data set\n",
    "x_train1, x_test1,y_train1,y_test1 = train_test_split(x1,y1, test_size=0.25,random_state=40)"
   ]
  },
  {
   "cell_type": "markdown",
   "id": "66f2daf0",
   "metadata": {},
   "source": [
    "### Building Decision Tree Classifier using Entropy Criteria\n",
    "### Since last time the iteration 1 and 2 had the highest accuracy, so we'll make new models with this new dataframe, i.e. with max depth = 2 & 3"
   ]
  },
  {
   "cell_type": "code",
   "execution_count": null,
   "id": "0d0163b3",
   "metadata": {},
   "outputs": [],
   "source": [
    "model11 = DecisionTreeClassifier(criterion = 'entropy',max_depth=2)\n",
    "model11.fit(x_train,y_train)\n",
    "preds11 = model11.predict(x_test) # predicting on test data set \n",
    "\n",
    "print('Model leaves:',model11.get_n_leaves(),'\\n','\\n',\n",
    "      pd.Series(preds11).value_counts(),'\\n','\\n',\n",
    "      'Model Accuracy is:',np.mean(preds11==y_test))"
   ]
  },
  {
   "cell_type": "code",
   "execution_count": null,
   "id": "7b987b03",
   "metadata": {},
   "outputs": [],
   "source": [
    "model12 = DecisionTreeClassifier(criterion = 'entropy',max_depth=3)\n",
    "model12.fit(x_train,y_train)\n",
    "preds12 = model12.predict(x_test) # predicting on test data set \n",
    "\n",
    "print('Model leaves:',model12.get_n_leaves(),'\\n','\\n',\n",
    "      pd.Series(preds12).value_counts(),'\\n','\\n',\n",
    "      'Model Accuracy is:',np.mean(preds12==y_test))"
   ]
  },
  {
   "cell_type": "markdown",
   "id": "5455c84b",
   "metadata": {},
   "source": [
    "### Since the accuracy hasn't improved, we can finalise the model 1 as our final model\n",
    "### Building Decision Tree Classifier (CART) using Gini Criteria"
   ]
  },
  {
   "cell_type": "code",
   "execution_count": null,
   "id": "3e314d2f",
   "metadata": {},
   "outputs": [],
   "source": [
    "from sklearn.tree import DecisionTreeClassifier\n",
    "model_gini = DecisionTreeClassifier(criterion='gini', max_depth=2)"
   ]
  },
  {
   "cell_type": "code",
   "execution_count": null,
   "id": "204f0b1d",
   "metadata": {},
   "outputs": [],
   "source": [
    "model_gini.fit(x_train, y_train)"
   ]
  },
  {
   "cell_type": "code",
   "execution_count": null,
   "id": "4d47b169",
   "metadata": {},
   "outputs": [],
   "source": [
    "#Prediction and computing the accuracy\n",
    "predG=model_gini.predict(x_test)\n",
    "print('Model Accuracy is:',np.mean(predG==y_test))"
   ]
  },
  {
   "cell_type": "markdown",
   "id": "bf277b80",
   "metadata": {},
   "source": [
    "### Same Accuracy is achieved using CART as well\n",
    "### Let's Visualize both the Decision Trees"
   ]
  },
  {
   "cell_type": "code",
   "execution_count": null,
   "id": "e9360e0a",
   "metadata": {},
   "outputs": [],
   "source": [
    "fig = plt.figure(figsize=(25,20))\n",
    "fig = tree.plot_tree(model1,\n",
    "                     feature_names= ['Taxable.Income','City.Population','Work.Experience','Undergrad_NO',\n",
    "                                     'Undergrad_YES','Marital.Status_Divorced','Marital.Status_Married',\n",
    "                                     'Marital.Status_Single','Urban_NO','Urban_YES','Category'], filled=True)\n",
    "plt.title('Decision Tree using Entropy',fontsize=22)\n",
    "plt.savefig('Fraud Check DT_Entropy.png')"
   ]
  },
  {
   "cell_type": "code",
   "execution_count": null,
   "id": "5c2f4296",
   "metadata": {},
   "outputs": [],
   "source": [
    "fig = plt.figure(figsize=(25,20))\n",
    "fig = tree.plot_tree(model_gini,\n",
    "                     feature_names= ['Taxable.Income','City.Population','Work.Experience','Undergrad_NO',\n",
    "                                     'Undergrad_YES','Marital.Status_Divorced','Marital.Status_Married',\n",
    "                                     'Marital.Status_Single','Urban_NO','Urban_YES','Category'], filled=True)\n",
    "plt.title('Decision Tree using CART',fontsize=22)\n",
    "plt.savefig('Fraud Check DT_CART.png')"
   ]
  }
 ],
 "metadata": {
  "kernelspec": {
   "display_name": "Python 3",
   "language": "python",
   "name": "python3"
  },
  "language_info": {
   "codemirror_mode": {
    "name": "ipython",
    "version": 3
   },
   "file_extension": ".py",
   "mimetype": "text/x-python",
   "name": "python",
   "nbconvert_exporter": "python",
   "pygments_lexer": "ipython3",
   "version": "3.8.8"
  }
 },
 "nbformat": 4,
 "nbformat_minor": 5
}
